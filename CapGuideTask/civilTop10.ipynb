{
 "cells": [
  {
   "cell_type": "markdown",
   "metadata": {},
   "source": [
    "# Extracting the needed pages "
   ]
  },
  {
   "cell_type": "code",
   "execution_count": 1,
   "metadata": {},
   "outputs": [],
   "source": [
    "#importing the library\n",
    "import PyPDF2"
   ]
  },
  {
   "cell_type": "code",
   "execution_count": 2,
   "metadata": {},
   "outputs": [],
   "source": [
    "#file object\n",
    "pdfFile = open('college_cutoffs.pdf', 'rb')"
   ]
  },
  {
   "cell_type": "code",
   "execution_count": 3,
   "metadata": {},
   "outputs": [],
   "source": [
    "#passing obj to PdfFileReader\n",
    "pdfReader = PyPDF2.PdfFileReader(pdfFile)"
   ]
  },
  {
   "cell_type": "code",
   "execution_count": 4,
   "metadata": {},
   "outputs": [
    {
     "data": {
      "text/plain": [
       "1303"
      ]
     },
     "execution_count": 4,
     "metadata": {},
     "output_type": "execute_result"
    }
   ],
   "source": [
    "#total number of pages\n",
    "pdfReader.numPages"
   ]
  },
  {
   "cell_type": "code",
   "execution_count": 5,
   "metadata": {},
   "outputs": [],
   "source": [
    "#now i will store the number of pages that has civil engineering in it\n",
    "needed_pages = []"
   ]
  },
  {
   "cell_type": "code",
   "execution_count": 6,
   "metadata": {},
   "outputs": [],
   "source": [
    "for i in range(0,pdfReader.numPages): #because total number of pages \n",
    "    pageObject = pdfReader.getPage(i)\n",
    "    text = pageObject.extractText()\n",
    "    temp = text.find('Savitribai')\n",
    "    if temp != -1:\n",
    "        temp2 = text.find('Civil')\n",
    "        if temp2 != -1:\n",
    "            needed_pages.append(i)\n",
    "    "
   ]
  },
  {
   "cell_type": "code",
   "execution_count": 7,
   "metadata": {},
   "outputs": [
    {
     "data": {
      "text/plain": [
       "79"
      ]
     },
     "execution_count": 7,
     "metadata": {},
     "output_type": "execute_result"
    }
   ],
   "source": [
    "#checking the number of pages that contain civil engineering\n",
    "len(needed_pages)"
   ]
  },
  {
   "cell_type": "code",
   "execution_count": 8,
   "metadata": {},
   "outputs": [],
   "source": [
    "#only 79 pages have Civil engineering data for savitribai college\n",
    "#our concern is just those pages!\n",
    "#we need to get a pdf that consists of that pages only\n",
    "from pathlib import Path"
   ]
  },
  {
   "cell_type": "code",
   "execution_count": 9,
   "metadata": {},
   "outputs": [],
   "source": [
    "pdf_writer = PyPDF2.PdfFileWriter()\n",
    "for page in needed_pages:\n",
    "    pdf_writer.addPage(pdfReader.getPage(page))"
   ]
  },
  {
   "cell_type": "code",
   "execution_count": 10,
   "metadata": {},
   "outputs": [
    {
     "data": {
      "text/plain": [
       "79"
      ]
     },
     "execution_count": 10,
     "metadata": {},
     "output_type": "execute_result"
    }
   ],
   "source": [
    "pdf_writer.getNumPages()"
   ]
  },
  {
   "cell_type": "code",
   "execution_count": 11,
   "metadata": {},
   "outputs": [],
   "source": [
    "with Path('needed_pages.pdf').open(mode='wb') as file:\n",
    "    pdf_writer.write(file)"
   ]
  },
  {
   "cell_type": "code",
   "execution_count": 12,
   "metadata": {},
   "outputs": [],
   "source": [
    "# WE HAVE THE FILE WITH US\n",
    "# NOW WE NEED TO SCRAPE THE DATA OFF THE FILE"
   ]
  },
  {
   "cell_type": "markdown",
   "metadata": {},
   "source": [
    "# Scraping the data off the file "
   ]
  },
  {
   "cell_type": "code",
   "execution_count": 13,
   "metadata": {},
   "outputs": [
    {
     "data": {
      "text/plain": [
       "79"
      ]
     },
     "execution_count": 13,
     "metadata": {},
     "output_type": "execute_result"
    }
   ],
   "source": [
    "pdfFile = open('needed_pages.pdf', 'rb')\n",
    "pdfReader = PyPDF2.PdfFileReader(pdfFile)\n",
    "pdfReader.numPages"
   ]
  },
  {
   "cell_type": "code",
   "execution_count": 14,
   "metadata": {},
   "outputs": [],
   "source": [
    "college_names = []\n",
    "college_id = []\n",
    "cutoff_ranks = []"
   ]
  },
  {
   "cell_type": "code",
   "execution_count": 15,
   "metadata": {},
   "outputs": [],
   "source": [
    "# first we inspect the data"
   ]
  },
  {
   "cell_type": "code",
   "execution_count": 16,
   "metadata": {},
   "outputs": [],
   "source": [
    "pageObj = pdfReader.getPage(1)\n",
    "text = pageObj.extractText()"
   ]
  },
  {
   "cell_type": "code",
   "execution_count": 17,
   "metadata": {},
   "outputs": [
    {
     "data": {
      "text/plain": [
       "'DirState Common Entrance Test Cell\\nCut Off List of Maharashtra State Candidature Candidates of \\nCAP Round I\\n for Admission to First Year of Four Year Full Time Degree Courses in Engineering and Technology for the Academic \\nYear \\n2019-20Government of Maharashtra5109 - Sandip Foundation, Sandip Institute of Technology and Research Centre, Mahiravani, Nashik\\n510919110 - Civil Engineering\\nStatus:Home University : Savitribai Phule Pune UniversityHome University Seats Allotted to Home University Candidates\\nGOPENHGSTHGNT1HGNT2HGOBCHGSEBCHLOPENHLNT3HLOBCH  I50417(55.6552943)69002(24.7097760)72878(20.8291390)51293(54.1181753\\n)59842(38.6358205)56276(45.2441647)48543(58.8609749)  II55540(46.6005953)62089(34.4970054)StageHome University Seats Allotted to Other Than Home University Candidates\\nGSCHLOPENHLSCH  I84604(5.2892101)39051(72.7015636)52533(51.8908917)StageOther Than Home University Seats Allotted to Other Than Home University Candidates\\nGOPENOGSCOGSTO\\nGNT3OGOBCOGSEBCOLSTO\\n  I43819(66.1641911\\n)61961(34.7316469)51994(52.8287334)83040(7.9836041)48199(59.4349051)64893(30.0428003)48916(58.2196940)StageOther Than Home University Seats Allotted to Home University Candidates\\nLOBCO  I77476(15.8364896)StageState LevelTFWS  I30390(82.1686956)Stage1Legends: Starting character G-General, L-Ladies, End character H-Home University, O-Other than Home University,S-State Level, AI- All India Seat. Maharashtra State Seats - Cut Off Indicates Maharashtra State General Merit No\\n.; Figures in bracket Indicates Merit Percentile.'"
      ]
     },
     "execution_count": 17,
     "metadata": {},
     "output_type": "execute_result"
    }
   ],
   "source": [
    "text"
   ]
  },
  {
   "cell_type": "code",
   "execution_count": 18,
   "metadata": {},
   "outputs": [],
   "source": [
    "# we found a string that is common in all \n",
    "common_string = 'DirState Common Entrance Test Cell\\nCut Off List of Maharashtra State Candidature Candidates of \\nCAP Round I\\n for Admission to First Year of Four Year Full Time Degree Courses in Engineering and Technology for the Academic \\nYear \\n2019-20Government of Maharashtra'"
   ]
  },
  {
   "cell_type": "code",
   "execution_count": 19,
   "metadata": {},
   "outputs": [],
   "source": [
    "text = text.replace(common_string, '')"
   ]
  },
  {
   "cell_type": "code",
   "execution_count": 20,
   "metadata": {},
   "outputs": [
    {
     "data": {
      "text/plain": [
       "'5109 - Sandip Foundation, Sandip Institute of Technology and Research Centre, Mahiravani, Nashik\\n510919110 - Civil Engineering\\nStatus:Home University : Savitribai Phule Pune UniversityHome University Seats Allotted to Home University Candidates\\nGOPENHGSTHGNT1HGNT2HGOBCHGSEBCHLOPENHLNT3HLOBCH  I50417(55.6552943)69002(24.7097760)72878(20.8291390)51293(54.1181753\\n)59842(38.6358205)56276(45.2441647)48543(58.8609749)  II55540(46.6005953)62089(34.4970054)StageHome University Seats Allotted to Other Than Home University Candidates\\nGSCHLOPENHLSCH  I84604(5.2892101)39051(72.7015636)52533(51.8908917)StageOther Than Home University Seats Allotted to Other Than Home University Candidates\\nGOPENOGSCOGSTO\\nGNT3OGOBCOGSEBCOLSTO\\n  I43819(66.1641911\\n)61961(34.7316469)51994(52.8287334)83040(7.9836041)48199(59.4349051)64893(30.0428003)48916(58.2196940)StageOther Than Home University Seats Allotted to Home University Candidates\\nLOBCO  I77476(15.8364896)StageState LevelTFWS  I30390(82.1686956)Stage1Legends: Starting character G-General, L-Ladies, End character H-Home University, O-Other than Home University,S-State Level, AI- All India Seat. Maharashtra State Seats - Cut Off Indicates Maharashtra State General Merit No\\n.; Figures in bracket Indicates Merit Percentile.'"
      ]
     },
     "execution_count": 20,
     "metadata": {},
     "output_type": "execute_result"
    }
   ],
   "source": [
    "text"
   ]
  },
  {
   "cell_type": "code",
   "execution_count": 21,
   "metadata": {},
   "outputs": [
    {
     "name": "stdout",
     "output_type": "stream",
     "text": [
      "5109\n"
     ]
    },
    {
     "data": {
      "text/plain": [
       "'Sandip Foundation, Sandip Institute of Technology and Research Centre, Mahiravani, Nashik'"
      ]
     },
     "execution_count": 21,
     "metadata": {},
     "output_type": "execute_result"
    }
   ],
   "source": [
    "#after removing that common string the remaming text can be used for our purpose\n",
    "#the first 4 characters will be the college code\n",
    "temp_string = text[:4]\n",
    "print(temp_string)\n",
    "#the next string will have college name\n",
    "text = text.replace(temp_string, '')\n",
    "text = text[3:]\n",
    "temp_string = text.split('\\n')[0]\n",
    "temp_string"
   ]
  },
  {
   "cell_type": "code",
   "execution_count": 22,
   "metadata": {},
   "outputs": [],
   "source": [
    "college_ids = []\n",
    "for n in range(pdfReader.numPages):\n",
    "    pageObj = pdfReader.getPage(n)\n",
    "    pageText = pageObj.extractText()\n",
    "    pageText = pageText.replace(common_string, '')\n",
    "    college_ids.append(pageText[:4])"
   ]
  },
  {
   "cell_type": "code",
   "execution_count": 23,
   "metadata": {},
   "outputs": [
    {
     "name": "stdout",
     "output_type": "stream",
     "text": [
      "79\n",
      "['5108', '5109', '5121', '5121', '5124', '5130', '5139', '5151', '5160', '5161', '5162', '5173', '5176', '5177', '5179', '5181', '5184', '5303', '5331', '5380', '5382', '5390', '5399', '5401', '5408', '5411', '5418', '6004', '6006', '6122', '6138', '6141', '6144', '6146', '6149', '6155', '6160', '6160', '6175', '6176', '6177', '6177', '6179', '6182', '6184', '6187', '6203', '6207', '6272', '6272', '6275', '6278', '6284', '6289', '6298', '6307', '6319', '6320', '6324', '6325', '6609', '6620', '6628', '6632', '6634', '6635', '6649', '6732', '6755', '6759', '6768', '6769', '6787', '6794', '6795', '6796', '6802', '6822', '6834']\n"
     ]
    }
   ],
   "source": [
    "print(len(college_ids))\n",
    "print(college_ids)"
   ]
  },
  {
   "cell_type": "code",
   "execution_count": 24,
   "metadata": {},
   "outputs": [
    {
     "data": {
      "text/plain": [
       "75"
      ]
     },
     "execution_count": 24,
     "metadata": {},
     "output_type": "execute_result"
    }
   ],
   "source": [
    "len(set(college_ids))"
   ]
  },
  {
   "cell_type": "code",
   "execution_count": 25,
   "metadata": {},
   "outputs": [],
   "source": [
    "#4 times the same college had different ranks for civil engineering\n",
    "#thats a bit of a confusion\n",
    "#we will have to find a way to go around that"
   ]
  },
  {
   "cell_type": "code",
   "execution_count": 26,
   "metadata": {},
   "outputs": [],
   "source": [
    "college_names = []\n",
    "for n in range(pdfReader.numPages):\n",
    "    pageObj = pdfReader.getPage(n)\n",
    "    pageText = pageObj.extractText()\n",
    "    pageText = pageText.replace(common_string,'')\n",
    "    pageText = pageText[7:]\n",
    "    pageText = pageText.split('\\n')\n",
    "    college_names.append(pageText[0])"
   ]
  },
  {
   "cell_type": "code",
   "execution_count": 27,
   "metadata": {},
   "outputs": [
    {
     "name": "stdout",
     "output_type": "stream",
     "text": [
      "79\n",
      "[\"Nashik District Maratha Vidya Prasarak Samaj's Karmaveer Adv.Babaurao Ganpatrao Thakare College of Engineering, Nashik\", 'Sandip Foundation, Sandip Institute of Technology and Research Centre, Mahiravani, Nashik', 'K. K. Wagh Institute of Engineering Education and Research, Nashik', 'K. K. Wagh Institute of Engineering Education and Research, Nashik', \"Jagadamba Education Soc. Nashik's S.N.D. College of Engineering & Reserch, Babulgaon512419110 - Civil Engineering\", 'Brahma Valley College of Engineering & Research, Trimbakeshwar, Nashik', 'Pravara Rural College of Engineering, Loni, Pravaranagar, Ahmednagar.', \"MET Bhujbal Knowledge City MET League's Engineering College, Adgaon, Nashik.\", \"Sanjivani Rural Education Society's Sanjivani College of Engineering, Kopargaon516019110 - Civil Engineering\", 'Dr. Vithalrao Vikhe Patil College of Engineering, Ahmednagar', \"Amrutvahini Sheti & Shikshan Vikas Sanstha's Amrutvahini College of Engineering, Sangamner\", \"SNJB's Late Sau. Kantabai Bhavarlalji Jain College of Engineering,  (Jain Gurukul), Neminagar,Chandwad,(Nashik)\", 'G. H. Raisoni College of Engineering and Management, Ahmednagar', 'Matoshri College of Engineering and Research Centre, Eklahare, Nashik517719110 - Civil Engineering', \"Vishwabharati Academy's College of Engineering, Ahmednagar\", \"Gokhale Education Society's, R.H. Sapat College of Engineering, Management Studies and Research, Nashik518119110 - Civil Engineering\", \"Amruta Vaishnavi Education & Welfare Trust's Shatabdi Institute of Engineering & Research, Agaskhind Tal. Sinnar\", 'Hon. Shri. Babanrao Pachpute Vichardhara Trust, Group of Institutions (Integrated Campus)-Parikrama, Kashti Shrigondha,', \"Sandip Foundation's, Sandip Institute of Engineering & Management, Nashik533119110 - Civil Engineering\", \"Adsul's Technical Campus, Chas Dist. Ahmednagar\", 'Ahmednagar Jilha Maratha Vidya Prasarak Samajache, Shri. Chhatrapati Shivaji Maharaj College of Engineering, Nepti', \"K.V.N. Naik S. P. Sansth's Loknete Gopinathji Munde Institute of Engineering Education & Research, Nashik.\", 'Sanghavi College of Engineering, Varvandi, Nashik.', \"Jawahar Education Society's Institute of Technology, Management & Research, Nashik.\", 'Vidya Niketan College of Engineering, Bota Sangamner', 'Maulana Mukhtar Ahmad Nadvi Technical Campus, Malegaon.', 'Guru Gobind Singh College of Engineering & Research Centre, Nashik.541819110 - Civil Engineering', 'Government College of Engineering & Research, Avasari Khurd', 'College of Engineering, Pune600619110 - Civil Engineering', \"TSSMS's Pd. Vasantdada Patil Institute of Technology, Bavdhan, Pune\", 'Genba Sopanrao Moze Trust Parvatibai Genba Moze College of Engineering,Wagholi, Pune', \"Jaywant Shikshan Prasarak Mandal's,Rajarshi Shahu College of Engineering, Tathawade, Pune\", 'Genba Sopanrao Moze College of Engineering, Baner-Balewadi, Pune614419110 - Civil Engineering', 'MIT Academy of Engineering,Alandi, Pune', 'Choudhary Attar Singh Yadav Memorial Trust,Siddhant College of Engineering, Maval', 'G.H.Raisoni College of Engineering & Management, Wagholi, Pune', \"JSPM's Imperial College of Engineering and Research, Wagholi, Pune\", \"JSPM's Imperial College of Engineering and Research, Wagholi, Pune\", 'Pimpri Chinchwad Education Trust, Pimpri Chinchwad College of Engineering, Pune', 'G. H.Raisoni Institute of Engineering and Technology, Wagholi, Pune', 'Sinhgad College of Engineering, Vadgaon (BK), Pune', 'Sinhgad College of Engineering, Vadgaon (BK), Pune', 'Indira College of Engineering & Management, Pune617919110 - Civil Engineering', 'Sinhgad Technical Education Society, Sinhgad Institute of Technology and Science, Narhe (Ambegaon)', \"K. J.'s Educational Institut Trinity College of Engineering and Research, Pisoli, Haveli\", 'Sinhgad Academy of Engineering, Kondhwa (BK)  Kondhwa-Saswad Road, Pune', \"Marathwada Mitra Mandal's Institute of Technology, Lohgaon, Pune\", 'Dr. D. Y. Patil Vidya Pratishthan Society Dr .D. Y. Patil Institute of Engineering & Technology, Pimpri,Pune', \"Dr. D. Y. Patil Pratishthan's D.Y.Patil College of Engineering Akurdi, Pune\", \"Dr. D. Y. Patil Pratishthan's D.Y.Patil College of Engineering Akurdi, Pune\", \"Shivnagar Vidya Prasarak Mandal's College of Engineering, Malegaon-Baramati\", \"All India Shri Shivaji Memorial Society's College of Engineering, Pune\", \"Vidya Pratishthan's Kamalnayan Bajaj Institute of Engineering & Technology, Baramati Dist.Pune\", \"B.R.A.C.T's Vishwakarma Institute of Information Technology, Kondhwa (Bk.), Pune\", \"Zeal Education Society's Zeal College of Engineering & Reserch, Narhe, Pune629819110 - Civil Engineering\", 'Dhole Patil Education Society, Dhole Patil College of Engineering, Wagholi, Tal. Haveli', 'Shahajirao Patil Vikas Pratishthan, S.B.Patil College of Engineering, Vangali, Tal. Indapur', \"K.J.'s Educational Institute's K.J.College of Engineering & Management Research, Pisoli632019110 - Civil Engineering\", \"Rajgad Dnyanpeeth's Technical Campus,Dhangwadi, Bhor\", \"Alard  Charitable Trust's Alard College of Engineering and Management, Pune\", 'Jaihind College Of Engineering,Kuran660919110 - Civil Engineering', 'D. Y. Patil Institute of Engineering and Technology, Ambi', 'Dattakala Group Of Institutions, Swami - Chincholi Tal. Daund Dist. Pune', \"Navsahyadri Education Society's Group of Institutions663219110 - Civil Engineering\", \"KJEI's Trinity Academy of Engineering, Yewalewadi, Pune\", 'Samarth Group of Institutions, Bangarwadi, Post Belhe Tal. Junnar Dist. Pune', \"TSSM's Bhivarabai Sawant College of Engineering and Research, Narhe, Pune664919110 - Civil Engineering\", 'Dr. D. Y. Patil School OF Engineering, Lohegaon, Pune', 'JSPM Narhe Technical Campus, Pune.', 'Shree Ramchandra College of Engineering, Lonikand,Pune675919110 - Civil Engineering', 'P.K. Technical Campus, Pune.', 'Rasiklal M. Dhariwal Sinhgad Technical Institutes Campus, Warje, Pune.', \"Dr. D. Y. Patil Educational Academy's, D.Y.Patil School of Engineering Academy, Ambi\", 'Anantrao Pawar College of Engineering & Research, Pune', 'Shri.Someshwar Shikshan Prasarak Mandals, Someshwar Engineering College, Someshwar Nagar679519110 - Civil Engineering', \"Bharati Vidyapeeth's College of Engineering,Lavale, Pune\", 'Dr. D.Y.Patil Institute of Engineering, Management & Reseach, Akurdi, Pune', \"Pimpri Chinchwad Education Trust's Pimpri Chinchwad College Of Engineering And Research, Ravet\", 'Dr.D.Y.Patil College Of Engineering & Innovation,Talegaon']\n"
     ]
    }
   ],
   "source": [
    "print(len(college_names))\n",
    "print(college_names)"
   ]
  },
  {
   "cell_type": "code",
   "execution_count": 28,
   "metadata": {},
   "outputs": [
    {
     "name": "stdout",
     "output_type": "stream",
     "text": [
      "75\n",
      "k\n"
     ]
    }
   ],
   "source": [
    "#we have extracted the college names \n",
    "#the strings contain some other text as well \n",
    "#something has to be done for it\n",
    "#we'll solve this issue as we go along\n",
    "#this list too will have 4 repeated name in them\n",
    "print(len(set(college_names)))\n",
    "print(college_names[0][-1])"
   ]
  },
  {
   "cell_type": "code",
   "execution_count": 29,
   "metadata": {},
   "outputs": [],
   "source": [
    "for i in range(len(college_names)):\n",
    "    college_names[i] = college_names[i].replace('Civil Engineering','')"
   ]
  },
  {
   "cell_type": "code",
   "execution_count": 30,
   "metadata": {},
   "outputs": [
    {
     "name": "stdout",
     "output_type": "stream",
     "text": [
      "[\"Nashik District Maratha Vidya Prasarak Samaj's Karmaveer Adv.Babaurao Ganpatrao Thakare College of Engineering, Nashik\", 'Sandip Foundation, Sandip Institute of Technology and Research Centre, Mahiravani, Nashik', 'K. K. Wagh Institute of Engineering Education and Research, Nashik', 'K. K. Wagh Institute of Engineering Education and Research, Nashik', \"Jagadamba Education Soc. Nashik's S.N.D. College of Engineering & Reserch, Babulgaon512419110 - \", 'Brahma Valley College of Engineering & Research, Trimbakeshwar, Nashik', 'Pravara Rural College of Engineering, Loni, Pravaranagar, Ahmednagar.', \"MET Bhujbal Knowledge City MET League's Engineering College, Adgaon, Nashik.\", \"Sanjivani Rural Education Society's Sanjivani College of Engineering, Kopargaon516019110 - \", 'Dr. Vithalrao Vikhe Patil College of Engineering, Ahmednagar', \"Amrutvahini Sheti & Shikshan Vikas Sanstha's Amrutvahini College of Engineering, Sangamner\", \"SNJB's Late Sau. Kantabai Bhavarlalji Jain College of Engineering,  (Jain Gurukul), Neminagar,Chandwad,(Nashik)\", 'G. H. Raisoni College of Engineering and Management, Ahmednagar', 'Matoshri College of Engineering and Research Centre, Eklahare, Nashik517719110 - ', \"Vishwabharati Academy's College of Engineering, Ahmednagar\", \"Gokhale Education Society's, R.H. Sapat College of Engineering, Management Studies and Research, Nashik518119110 - \", \"Amruta Vaishnavi Education & Welfare Trust's Shatabdi Institute of Engineering & Research, Agaskhind Tal. Sinnar\", 'Hon. Shri. Babanrao Pachpute Vichardhara Trust, Group of Institutions (Integrated Campus)-Parikrama, Kashti Shrigondha,', \"Sandip Foundation's, Sandip Institute of Engineering & Management, Nashik533119110 - \", \"Adsul's Technical Campus, Chas Dist. Ahmednagar\", 'Ahmednagar Jilha Maratha Vidya Prasarak Samajache, Shri. Chhatrapati Shivaji Maharaj College of Engineering, Nepti', \"K.V.N. Naik S. P. Sansth's Loknete Gopinathji Munde Institute of Engineering Education & Research, Nashik.\", 'Sanghavi College of Engineering, Varvandi, Nashik.', \"Jawahar Education Society's Institute of Technology, Management & Research, Nashik.\", 'Vidya Niketan College of Engineering, Bota Sangamner', 'Maulana Mukhtar Ahmad Nadvi Technical Campus, Malegaon.', 'Guru Gobind Singh College of Engineering & Research Centre, Nashik.541819110 - ', 'Government College of Engineering & Research, Avasari Khurd', 'College of Engineering, Pune600619110 - ', \"TSSMS's Pd. Vasantdada Patil Institute of Technology, Bavdhan, Pune\", 'Genba Sopanrao Moze Trust Parvatibai Genba Moze College of Engineering,Wagholi, Pune', \"Jaywant Shikshan Prasarak Mandal's,Rajarshi Shahu College of Engineering, Tathawade, Pune\", 'Genba Sopanrao Moze College of Engineering, Baner-Balewadi, Pune614419110 - ', 'MIT Academy of Engineering,Alandi, Pune', 'Choudhary Attar Singh Yadav Memorial Trust,Siddhant College of Engineering, Maval', 'G.H.Raisoni College of Engineering & Management, Wagholi, Pune', \"JSPM's Imperial College of Engineering and Research, Wagholi, Pune\", \"JSPM's Imperial College of Engineering and Research, Wagholi, Pune\", 'Pimpri Chinchwad Education Trust, Pimpri Chinchwad College of Engineering, Pune', 'G. H.Raisoni Institute of Engineering and Technology, Wagholi, Pune', 'Sinhgad College of Engineering, Vadgaon (BK), Pune', 'Sinhgad College of Engineering, Vadgaon (BK), Pune', 'Indira College of Engineering & Management, Pune617919110 - ', 'Sinhgad Technical Education Society, Sinhgad Institute of Technology and Science, Narhe (Ambegaon)', \"K. J.'s Educational Institut Trinity College of Engineering and Research, Pisoli, Haveli\", 'Sinhgad Academy of Engineering, Kondhwa (BK)  Kondhwa-Saswad Road, Pune', \"Marathwada Mitra Mandal's Institute of Technology, Lohgaon, Pune\", 'Dr. D. Y. Patil Vidya Pratishthan Society Dr .D. Y. Patil Institute of Engineering & Technology, Pimpri,Pune', \"Dr. D. Y. Patil Pratishthan's D.Y.Patil College of Engineering Akurdi, Pune\", \"Dr. D. Y. Patil Pratishthan's D.Y.Patil College of Engineering Akurdi, Pune\", \"Shivnagar Vidya Prasarak Mandal's College of Engineering, Malegaon-Baramati\", \"All India Shri Shivaji Memorial Society's College of Engineering, Pune\", \"Vidya Pratishthan's Kamalnayan Bajaj Institute of Engineering & Technology, Baramati Dist.Pune\", \"B.R.A.C.T's Vishwakarma Institute of Information Technology, Kondhwa (Bk.), Pune\", \"Zeal Education Society's Zeal College of Engineering & Reserch, Narhe, Pune629819110 - \", 'Dhole Patil Education Society, Dhole Patil College of Engineering, Wagholi, Tal. Haveli', 'Shahajirao Patil Vikas Pratishthan, S.B.Patil College of Engineering, Vangali, Tal. Indapur', \"K.J.'s Educational Institute's K.J.College of Engineering & Management Research, Pisoli632019110 - \", \"Rajgad Dnyanpeeth's Technical Campus,Dhangwadi, Bhor\", \"Alard  Charitable Trust's Alard College of Engineering and Management, Pune\", 'Jaihind College Of Engineering,Kuran660919110 - ', 'D. Y. Patil Institute of Engineering and Technology, Ambi', 'Dattakala Group Of Institutions, Swami - Chincholi Tal. Daund Dist. Pune', \"Navsahyadri Education Society's Group of Institutions663219110 - \", \"KJEI's Trinity Academy of Engineering, Yewalewadi, Pune\", 'Samarth Group of Institutions, Bangarwadi, Post Belhe Tal. Junnar Dist. Pune', \"TSSM's Bhivarabai Sawant College of Engineering and Research, Narhe, Pune664919110 - \", 'Dr. D. Y. Patil School OF Engineering, Lohegaon, Pune', 'JSPM Narhe Technical Campus, Pune.', 'Shree Ramchandra College of Engineering, Lonikand,Pune675919110 - ', 'P.K. Technical Campus, Pune.', 'Rasiklal M. Dhariwal Sinhgad Technical Institutes Campus, Warje, Pune.', \"Dr. D. Y. Patil Educational Academy's, D.Y.Patil School of Engineering Academy, Ambi\", 'Anantrao Pawar College of Engineering & Research, Pune', 'Shri.Someshwar Shikshan Prasarak Mandals, Someshwar Engineering College, Someshwar Nagar679519110 - ', \"Bharati Vidyapeeth's College of Engineering,Lavale, Pune\", 'Dr. D.Y.Patil Institute of Engineering, Management & Reseach, Akurdi, Pune', \"Pimpri Chinchwad Education Trust's Pimpri Chinchwad College Of Engineering And Research, Ravet\", 'Dr.D.Y.Patil College Of Engineering & Innovation,Talegaon']\n"
     ]
    }
   ],
   "source": [
    "#checking for the removal of 'Civil Engineering' from the college names\n",
    "print(college_names)"
   ]
  },
  {
   "cell_type": "code",
   "execution_count": 31,
   "metadata": {},
   "outputs": [],
   "source": [
    "#We need to remove the college+branch codes at the end\n",
    "for i in range(len(college_names)):\n",
    "    if college_names[i][-1] == ' ':\n",
    "        name_length = len(college_names[i])\n",
    "        name_length = name_length - 12\n",
    "        college_names[i] = college_names[i][:name_length]"
   ]
  },
  {
   "cell_type": "code",
   "execution_count": 32,
   "metadata": {},
   "outputs": [
    {
     "name": "stdout",
     "output_type": "stream",
     "text": [
      "[\"Nashik District Maratha Vidya Prasarak Samaj's Karmaveer Adv.Babaurao Ganpatrao Thakare College of Engineering, Nashik\", 'Sandip Foundation, Sandip Institute of Technology and Research Centre, Mahiravani, Nashik', 'K. K. Wagh Institute of Engineering Education and Research, Nashik', 'K. K. Wagh Institute of Engineering Education and Research, Nashik', \"Jagadamba Education Soc. Nashik's S.N.D. College of Engineering & Reserch, Babulgaon\", 'Brahma Valley College of Engineering & Research, Trimbakeshwar, Nashik', 'Pravara Rural College of Engineering, Loni, Pravaranagar, Ahmednagar.', \"MET Bhujbal Knowledge City MET League's Engineering College, Adgaon, Nashik.\", \"Sanjivani Rural Education Society's Sanjivani College of Engineering, Kopargaon\", 'Dr. Vithalrao Vikhe Patil College of Engineering, Ahmednagar', \"Amrutvahini Sheti & Shikshan Vikas Sanstha's Amrutvahini College of Engineering, Sangamner\", \"SNJB's Late Sau. Kantabai Bhavarlalji Jain College of Engineering,  (Jain Gurukul), Neminagar,Chandwad,(Nashik)\", 'G. H. Raisoni College of Engineering and Management, Ahmednagar', 'Matoshri College of Engineering and Research Centre, Eklahare, Nashik', \"Vishwabharati Academy's College of Engineering, Ahmednagar\", \"Gokhale Education Society's, R.H. Sapat College of Engineering, Management Studies and Research, Nashik\", \"Amruta Vaishnavi Education & Welfare Trust's Shatabdi Institute of Engineering & Research, Agaskhind Tal. Sinnar\", 'Hon. Shri. Babanrao Pachpute Vichardhara Trust, Group of Institutions (Integrated Campus)-Parikrama, Kashti Shrigondha,', \"Sandip Foundation's, Sandip Institute of Engineering & Management, Nashik\", \"Adsul's Technical Campus, Chas Dist. Ahmednagar\", 'Ahmednagar Jilha Maratha Vidya Prasarak Samajache, Shri. Chhatrapati Shivaji Maharaj College of Engineering, Nepti', \"K.V.N. Naik S. P. Sansth's Loknete Gopinathji Munde Institute of Engineering Education & Research, Nashik.\", 'Sanghavi College of Engineering, Varvandi, Nashik.', \"Jawahar Education Society's Institute of Technology, Management & Research, Nashik.\", 'Vidya Niketan College of Engineering, Bota Sangamner', 'Maulana Mukhtar Ahmad Nadvi Technical Campus, Malegaon.', 'Guru Gobind Singh College of Engineering & Research Centre, Nashik.', 'Government College of Engineering & Research, Avasari Khurd', 'College of Engineering, Pune', \"TSSMS's Pd. Vasantdada Patil Institute of Technology, Bavdhan, Pune\", 'Genba Sopanrao Moze Trust Parvatibai Genba Moze College of Engineering,Wagholi, Pune', \"Jaywant Shikshan Prasarak Mandal's,Rajarshi Shahu College of Engineering, Tathawade, Pune\", 'Genba Sopanrao Moze College of Engineering, Baner-Balewadi, Pune', 'MIT Academy of Engineering,Alandi, Pune', 'Choudhary Attar Singh Yadav Memorial Trust,Siddhant College of Engineering, Maval', 'G.H.Raisoni College of Engineering & Management, Wagholi, Pune', \"JSPM's Imperial College of Engineering and Research, Wagholi, Pune\", \"JSPM's Imperial College of Engineering and Research, Wagholi, Pune\", 'Pimpri Chinchwad Education Trust, Pimpri Chinchwad College of Engineering, Pune', 'G. H.Raisoni Institute of Engineering and Technology, Wagholi, Pune', 'Sinhgad College of Engineering, Vadgaon (BK), Pune', 'Sinhgad College of Engineering, Vadgaon (BK), Pune', 'Indira College of Engineering & Management, Pune', 'Sinhgad Technical Education Society, Sinhgad Institute of Technology and Science, Narhe (Ambegaon)', \"K. J.'s Educational Institut Trinity College of Engineering and Research, Pisoli, Haveli\", 'Sinhgad Academy of Engineering, Kondhwa (BK)  Kondhwa-Saswad Road, Pune', \"Marathwada Mitra Mandal's Institute of Technology, Lohgaon, Pune\", 'Dr. D. Y. Patil Vidya Pratishthan Society Dr .D. Y. Patil Institute of Engineering & Technology, Pimpri,Pune', \"Dr. D. Y. Patil Pratishthan's D.Y.Patil College of Engineering Akurdi, Pune\", \"Dr. D. Y. Patil Pratishthan's D.Y.Patil College of Engineering Akurdi, Pune\", \"Shivnagar Vidya Prasarak Mandal's College of Engineering, Malegaon-Baramati\", \"All India Shri Shivaji Memorial Society's College of Engineering, Pune\", \"Vidya Pratishthan's Kamalnayan Bajaj Institute of Engineering & Technology, Baramati Dist.Pune\", \"B.R.A.C.T's Vishwakarma Institute of Information Technology, Kondhwa (Bk.), Pune\", \"Zeal Education Society's Zeal College of Engineering & Reserch, Narhe, Pune\", 'Dhole Patil Education Society, Dhole Patil College of Engineering, Wagholi, Tal. Haveli', 'Shahajirao Patil Vikas Pratishthan, S.B.Patil College of Engineering, Vangali, Tal. Indapur', \"K.J.'s Educational Institute's K.J.College of Engineering & Management Research, Pisoli\", \"Rajgad Dnyanpeeth's Technical Campus,Dhangwadi, Bhor\", \"Alard  Charitable Trust's Alard College of Engineering and Management, Pune\", 'Jaihind College Of Engineering,Kuran', 'D. Y. Patil Institute of Engineering and Technology, Ambi', 'Dattakala Group Of Institutions, Swami - Chincholi Tal. Daund Dist. Pune', \"Navsahyadri Education Society's Group of Institutions\", \"KJEI's Trinity Academy of Engineering, Yewalewadi, Pune\", 'Samarth Group of Institutions, Bangarwadi, Post Belhe Tal. Junnar Dist. Pune', \"TSSM's Bhivarabai Sawant College of Engineering and Research, Narhe, Pune\", 'Dr. D. Y. Patil School OF Engineering, Lohegaon, Pune', 'JSPM Narhe Technical Campus, Pune.', 'Shree Ramchandra College of Engineering, Lonikand,Pune', 'P.K. Technical Campus, Pune.', 'Rasiklal M. Dhariwal Sinhgad Technical Institutes Campus, Warje, Pune.', \"Dr. D. Y. Patil Educational Academy's, D.Y.Patil School of Engineering Academy, Ambi\", 'Anantrao Pawar College of Engineering & Research, Pune', 'Shri.Someshwar Shikshan Prasarak Mandals, Someshwar Engineering College, Someshwar Nagar', \"Bharati Vidyapeeth's College of Engineering,Lavale, Pune\", 'Dr. D.Y.Patil Institute of Engineering, Management & Reseach, Akurdi, Pune', \"Pimpri Chinchwad Education Trust's Pimpri Chinchwad College Of Engineering And Research, Ravet\", 'Dr.D.Y.Patil College Of Engineering & Innovation,Talegaon']\n"
     ]
    }
   ],
   "source": [
    "#checking for the numbers again\n",
    "print(college_names)"
   ]
  },
  {
   "cell_type": "code",
   "execution_count": 33,
   "metadata": {},
   "outputs": [],
   "source": [
    "#We have successfully extracted college names"
   ]
  },
  {
   "cell_type": "code",
   "execution_count": 34,
   "metadata": {},
   "outputs": [],
   "source": [
    "#anyway now it gets trickier, we need to scrape the numbers off"
   ]
  },
  {
   "cell_type": "code",
   "execution_count": 35,
   "metadata": {},
   "outputs": [],
   "source": [
    "import pandas as pd\n",
    "college = pd.DataFrame({'College_ID':college_ids, 'College_Name':college_names})"
   ]
  },
  {
   "cell_type": "code",
   "execution_count": 36,
   "metadata": {},
   "outputs": [
    {
     "data": {
      "text/html": [
       "<div>\n",
       "<style scoped>\n",
       "    .dataframe tbody tr th:only-of-type {\n",
       "        vertical-align: middle;\n",
       "    }\n",
       "\n",
       "    .dataframe tbody tr th {\n",
       "        vertical-align: top;\n",
       "    }\n",
       "\n",
       "    .dataframe thead th {\n",
       "        text-align: right;\n",
       "    }\n",
       "</style>\n",
       "<table border=\"1\" class=\"dataframe\">\n",
       "  <thead>\n",
       "    <tr style=\"text-align: right;\">\n",
       "      <th></th>\n",
       "      <th>College_ID</th>\n",
       "      <th>College_Name</th>\n",
       "    </tr>\n",
       "  </thead>\n",
       "  <tbody>\n",
       "    <tr>\n",
       "      <th>0</th>\n",
       "      <td>5108</td>\n",
       "      <td>Nashik District Maratha Vidya Prasarak Samaj's...</td>\n",
       "    </tr>\n",
       "    <tr>\n",
       "      <th>1</th>\n",
       "      <td>5109</td>\n",
       "      <td>Sandip Foundation, Sandip Institute of Technol...</td>\n",
       "    </tr>\n",
       "    <tr>\n",
       "      <th>2</th>\n",
       "      <td>5121</td>\n",
       "      <td>K. K. Wagh Institute of Engineering Education ...</td>\n",
       "    </tr>\n",
       "    <tr>\n",
       "      <th>3</th>\n",
       "      <td>5121</td>\n",
       "      <td>K. K. Wagh Institute of Engineering Education ...</td>\n",
       "    </tr>\n",
       "    <tr>\n",
       "      <th>4</th>\n",
       "      <td>5124</td>\n",
       "      <td>Jagadamba Education Soc. Nashik's S.N.D. Colle...</td>\n",
       "    </tr>\n",
       "  </tbody>\n",
       "</table>\n",
       "</div>"
      ],
      "text/plain": [
       "  College_ID                                       College_Name\n",
       "0       5108  Nashik District Maratha Vidya Prasarak Samaj's...\n",
       "1       5109  Sandip Foundation, Sandip Institute of Technol...\n",
       "2       5121  K. K. Wagh Institute of Engineering Education ...\n",
       "3       5121  K. K. Wagh Institute of Engineering Education ...\n",
       "4       5124  Jagadamba Education Soc. Nashik's S.N.D. Colle..."
      ]
     },
     "execution_count": 36,
     "metadata": {},
     "output_type": "execute_result"
    }
   ],
   "source": [
    "college.head()"
   ]
  },
  {
   "cell_type": "code",
   "execution_count": 37,
   "metadata": {},
   "outputs": [],
   "source": [
    "#The number scraping part was becoming more and more complex; the formatting of each page wasn't uniform.\n",
    "#So opted for converting the\n",
    "#"
   ]
  },
  {
   "cell_type": "code",
   "execution_count": 38,
   "metadata": {},
   "outputs": [],
   "source": [
    "raw_xl = pd.ExcelFile(\"needed_pages.xlsx\")"
   ]
  },
  {
   "cell_type": "code",
   "execution_count": 39,
   "metadata": {},
   "outputs": [],
   "source": [
    "table_names = []\n",
    "for i in range(1,80):\n",
    "    string = 'Table '\n",
    "    string = string + str(i)\n",
    "    table_names.append(string)"
   ]
  },
  {
   "cell_type": "code",
   "execution_count": 40,
   "metadata": {},
   "outputs": [
    {
     "data": {
      "text/plain": [
       "['Table 1',\n",
       " 'Table 2',\n",
       " 'Table 3',\n",
       " 'Table 4',\n",
       " 'Table 5',\n",
       " 'Table 6',\n",
       " 'Table 7',\n",
       " 'Table 8',\n",
       " 'Table 9',\n",
       " 'Table 10',\n",
       " 'Table 11',\n",
       " 'Table 12',\n",
       " 'Table 13',\n",
       " 'Table 14',\n",
       " 'Table 15',\n",
       " 'Table 16',\n",
       " 'Table 17',\n",
       " 'Table 18',\n",
       " 'Table 19',\n",
       " 'Table 20',\n",
       " 'Table 21',\n",
       " 'Table 22',\n",
       " 'Table 23',\n",
       " 'Table 24',\n",
       " 'Table 25',\n",
       " 'Table 26',\n",
       " 'Table 27',\n",
       " 'Table 28',\n",
       " 'Table 29',\n",
       " 'Table 30',\n",
       " 'Table 31',\n",
       " 'Table 32',\n",
       " 'Table 33',\n",
       " 'Table 34',\n",
       " 'Table 35',\n",
       " 'Table 36',\n",
       " 'Table 37',\n",
       " 'Table 38',\n",
       " 'Table 39',\n",
       " 'Table 40',\n",
       " 'Table 41',\n",
       " 'Table 42',\n",
       " 'Table 43',\n",
       " 'Table 44',\n",
       " 'Table 45',\n",
       " 'Table 46',\n",
       " 'Table 47',\n",
       " 'Table 48',\n",
       " 'Table 49',\n",
       " 'Table 50',\n",
       " 'Table 51',\n",
       " 'Table 52',\n",
       " 'Table 53',\n",
       " 'Table 54',\n",
       " 'Table 55',\n",
       " 'Table 56',\n",
       " 'Table 57',\n",
       " 'Table 58',\n",
       " 'Table 59',\n",
       " 'Table 60',\n",
       " 'Table 61',\n",
       " 'Table 62',\n",
       " 'Table 63',\n",
       " 'Table 64',\n",
       " 'Table 65',\n",
       " 'Table 66',\n",
       " 'Table 67',\n",
       " 'Table 68',\n",
       " 'Table 69',\n",
       " 'Table 70',\n",
       " 'Table 71',\n",
       " 'Table 72',\n",
       " 'Table 73',\n",
       " 'Table 74',\n",
       " 'Table 75',\n",
       " 'Table 76',\n",
       " 'Table 77',\n",
       " 'Table 78',\n",
       " 'Table 79']"
      ]
     },
     "execution_count": 40,
     "metadata": {},
     "output_type": "execute_result"
    }
   ],
   "source": [
    "table_names"
   ]
  },
  {
   "cell_type": "code",
   "execution_count": 41,
   "metadata": {},
   "outputs": [],
   "source": [
    "number_strings = []\n",
    "for i in range(79):\n",
    "    sheet = pd.read_excel(raw_xl, table_names[i])\n",
    "    for j in range(2):\n",
    "        if sheet.iloc[j,0] == 'I':\n",
    "            number_strings.append(sheet.iloc[j,1])\n",
    "            break"
   ]
  },
  {
   "cell_type": "code",
   "execution_count": 42,
   "metadata": {},
   "outputs": [],
   "source": [
    "#now we have extracted the cutoff ranks \n",
    "#we need to process them and convert it into required format"
   ]
  },
  {
   "cell_type": "code",
   "execution_count": 43,
   "metadata": {},
   "outputs": [
    {
     "data": {
      "text/plain": [
       "'38617\\n(73.1965557)'"
      ]
     },
     "execution_count": 43,
     "metadata": {},
     "output_type": "execute_result"
    }
   ],
   "source": [
    "number_strings[0]"
   ]
  },
  {
   "cell_type": "code",
   "execution_count": 44,
   "metadata": {},
   "outputs": [
    {
     "data": {
      "text/plain": [
       "38617"
      ]
     },
     "execution_count": 44,
     "metadata": {},
     "output_type": "execute_result"
    }
   ],
   "source": [
    "temp = number_strings[0].split('\\n')[0]\n",
    "int(temp)"
   ]
  },
  {
   "cell_type": "code",
   "execution_count": 45,
   "metadata": {},
   "outputs": [],
   "source": [
    "converted_numbers = []\n",
    "for i in number_strings:\n",
    "    temp = i.split('\\n')[0]\n",
    "    temp = int(temp)\n",
    "    converted_numbers.append(temp)"
   ]
  },
  {
   "cell_type": "code",
   "execution_count": 46,
   "metadata": {},
   "outputs": [
    {
     "name": "stdout",
     "output_type": "stream",
     "text": [
      "79 [38617, 50417, 22937, 32662, 53420, 62679, 37793, 39672, 37829, 36668, 34835, 51433, 84289, 80859, 59772, 52670, 32066, 76658, 86676, 65050, 46250, 72194, 43272, 75253, 76835, 86342, 64014, 12456, 1255, 86350, 86522, 32932, 39934, 16173, 77715, 48052, 54833, 85727, 12971, 86331, 32805, 50805, 75089, 85995, 83189, 86733, 69340, 45456, 40070, 48387, 70739, 28635, 51428, 14178, 77452, 70199, 87078, 80753, 78636, 23543, 86104, 80689, 77441, 85375, 86552, 53775, 86534, 58410, 86681, 68434, 83588, 86401, 82394, 84687, 81692, 59535, 46359, 41752, 84073]\n"
     ]
    }
   ],
   "source": [
    "print(len(converted_numbers),converted_numbers)"
   ]
  },
  {
   "cell_type": "code",
   "execution_count": 47,
   "metadata": {},
   "outputs": [],
   "source": [
    "#the ranks are for general open category home state students \n",
    "college['CutOff_Ranks'] = converted_numbers"
   ]
  },
  {
   "cell_type": "code",
   "execution_count": 48,
   "metadata": {},
   "outputs": [
    {
     "data": {
      "text/html": [
       "<div>\n",
       "<style scoped>\n",
       "    .dataframe tbody tr th:only-of-type {\n",
       "        vertical-align: middle;\n",
       "    }\n",
       "\n",
       "    .dataframe tbody tr th {\n",
       "        vertical-align: top;\n",
       "    }\n",
       "\n",
       "    .dataframe thead th {\n",
       "        text-align: right;\n",
       "    }\n",
       "</style>\n",
       "<table border=\"1\" class=\"dataframe\">\n",
       "  <thead>\n",
       "    <tr style=\"text-align: right;\">\n",
       "      <th></th>\n",
       "      <th>College_ID</th>\n",
       "      <th>College_Name</th>\n",
       "      <th>CutOff_Ranks</th>\n",
       "    </tr>\n",
       "  </thead>\n",
       "  <tbody>\n",
       "    <tr>\n",
       "      <th>0</th>\n",
       "      <td>5108</td>\n",
       "      <td>Nashik District Maratha Vidya Prasarak Samaj's...</td>\n",
       "      <td>38617</td>\n",
       "    </tr>\n",
       "    <tr>\n",
       "      <th>1</th>\n",
       "      <td>5109</td>\n",
       "      <td>Sandip Foundation, Sandip Institute of Technol...</td>\n",
       "      <td>50417</td>\n",
       "    </tr>\n",
       "    <tr>\n",
       "      <th>2</th>\n",
       "      <td>5121</td>\n",
       "      <td>K. K. Wagh Institute of Engineering Education ...</td>\n",
       "      <td>22937</td>\n",
       "    </tr>\n",
       "    <tr>\n",
       "      <th>3</th>\n",
       "      <td>5121</td>\n",
       "      <td>K. K. Wagh Institute of Engineering Education ...</td>\n",
       "      <td>32662</td>\n",
       "    </tr>\n",
       "    <tr>\n",
       "      <th>4</th>\n",
       "      <td>5124</td>\n",
       "      <td>Jagadamba Education Soc. Nashik's S.N.D. Colle...</td>\n",
       "      <td>53420</td>\n",
       "    </tr>\n",
       "  </tbody>\n",
       "</table>\n",
       "</div>"
      ],
      "text/plain": [
       "  College_ID                                       College_Name  CutOff_Ranks\n",
       "0       5108  Nashik District Maratha Vidya Prasarak Samaj's...         38617\n",
       "1       5109  Sandip Foundation, Sandip Institute of Technol...         50417\n",
       "2       5121  K. K. Wagh Institute of Engineering Education ...         22937\n",
       "3       5121  K. K. Wagh Institute of Engineering Education ...         32662\n",
       "4       5124  Jagadamba Education Soc. Nashik's S.N.D. Colle...         53420"
      ]
     },
     "execution_count": 48,
     "metadata": {},
     "output_type": "execute_result"
    }
   ],
   "source": [
    "college.head()"
   ]
  },
  {
   "cell_type": "code",
   "execution_count": 49,
   "metadata": {},
   "outputs": [],
   "source": [
    "#Remember we had repeating colleges with different cutoff ranks"
   ]
  },
  {
   "cell_type": "code",
   "execution_count": 50,
   "metadata": {},
   "outputs": [],
   "source": [
    "#Inquiry has started about that issue, will update as soon as I come to know!"
   ]
  },
  {
   "cell_type": "code",
   "execution_count": 51,
   "metadata": {},
   "outputs": [
    {
     "data": {
      "text/plain": [
       "5121    2\n",
       "6177    2\n",
       "6160    2\n",
       "6272    2\n",
       "6319    1\n",
       "       ..\n",
       "6275    1\n",
       "6732    1\n",
       "6796    1\n",
       "6307    1\n",
       "5380    1\n",
       "Name: College_ID, Length: 75, dtype: int64"
      ]
     },
     "execution_count": 51,
     "metadata": {},
     "output_type": "execute_result"
    }
   ],
   "source": [
    "college['College_ID'].value_counts()"
   ]
  },
  {
   "cell_type": "code",
   "execution_count": 52,
   "metadata": {},
   "outputs": [
    {
     "data": {
      "text/html": [
       "<div>\n",
       "<style scoped>\n",
       "    .dataframe tbody tr th:only-of-type {\n",
       "        vertical-align: middle;\n",
       "    }\n",
       "\n",
       "    .dataframe tbody tr th {\n",
       "        vertical-align: top;\n",
       "    }\n",
       "\n",
       "    .dataframe thead th {\n",
       "        text-align: right;\n",
       "    }\n",
       "</style>\n",
       "<table border=\"1\" class=\"dataframe\">\n",
       "  <thead>\n",
       "    <tr style=\"text-align: right;\">\n",
       "      <th></th>\n",
       "      <th>College_ID</th>\n",
       "      <th>College_Name</th>\n",
       "      <th>CutOff_Ranks</th>\n",
       "    </tr>\n",
       "  </thead>\n",
       "  <tbody>\n",
       "    <tr>\n",
       "      <th>28</th>\n",
       "      <td>6006</td>\n",
       "      <td>College of Engineering, Pune</td>\n",
       "      <td>1255</td>\n",
       "    </tr>\n",
       "    <tr>\n",
       "      <th>27</th>\n",
       "      <td>6004</td>\n",
       "      <td>Government College of Engineering &amp; Research, ...</td>\n",
       "      <td>12456</td>\n",
       "    </tr>\n",
       "    <tr>\n",
       "      <th>38</th>\n",
       "      <td>6175</td>\n",
       "      <td>Pimpri Chinchwad Education Trust, Pimpri Chinc...</td>\n",
       "      <td>12971</td>\n",
       "    </tr>\n",
       "    <tr>\n",
       "      <th>53</th>\n",
       "      <td>6289</td>\n",
       "      <td>B.R.A.C.T's Vishwakarma Institute of Informati...</td>\n",
       "      <td>14178</td>\n",
       "    </tr>\n",
       "    <tr>\n",
       "      <th>33</th>\n",
       "      <td>6146</td>\n",
       "      <td>MIT Academy of Engineering,Alandi, Pune</td>\n",
       "      <td>16173</td>\n",
       "    </tr>\n",
       "    <tr>\n",
       "      <th>2</th>\n",
       "      <td>5121</td>\n",
       "      <td>K. K. Wagh Institute of Engineering Education ...</td>\n",
       "      <td>22937</td>\n",
       "    </tr>\n",
       "    <tr>\n",
       "      <th>59</th>\n",
       "      <td>6325</td>\n",
       "      <td>Alard  Charitable Trust's Alard College of Eng...</td>\n",
       "      <td>23543</td>\n",
       "    </tr>\n",
       "    <tr>\n",
       "      <th>51</th>\n",
       "      <td>6278</td>\n",
       "      <td>All India Shri Shivaji Memorial Society's Coll...</td>\n",
       "      <td>28635</td>\n",
       "    </tr>\n",
       "    <tr>\n",
       "      <th>16</th>\n",
       "      <td>5184</td>\n",
       "      <td>Amruta Vaishnavi Education &amp; Welfare Trust's S...</td>\n",
       "      <td>32066</td>\n",
       "    </tr>\n",
       "    <tr>\n",
       "      <th>3</th>\n",
       "      <td>5121</td>\n",
       "      <td>K. K. Wagh Institute of Engineering Education ...</td>\n",
       "      <td>32662</td>\n",
       "    </tr>\n",
       "  </tbody>\n",
       "</table>\n",
       "</div>"
      ],
      "text/plain": [
       "   College_ID                                       College_Name  CutOff_Ranks\n",
       "28       6006                       College of Engineering, Pune          1255\n",
       "27       6004  Government College of Engineering & Research, ...         12456\n",
       "38       6175  Pimpri Chinchwad Education Trust, Pimpri Chinc...         12971\n",
       "53       6289  B.R.A.C.T's Vishwakarma Institute of Informati...         14178\n",
       "33       6146            MIT Academy of Engineering,Alandi, Pune         16173\n",
       "2        5121  K. K. Wagh Institute of Engineering Education ...         22937\n",
       "59       6325  Alard  Charitable Trust's Alard College of Eng...         23543\n",
       "51       6278  All India Shri Shivaji Memorial Society's Coll...         28635\n",
       "16       5184  Amruta Vaishnavi Education & Welfare Trust's S...         32066\n",
       "3        5121  K. K. Wagh Institute of Engineering Education ...         32662"
      ]
     },
     "execution_count": 52,
     "metadata": {},
     "output_type": "execute_result"
    }
   ],
   "source": [
    "college.sort_values('CutOff_Ranks').head(10)"
   ]
  },
  {
   "cell_type": "markdown",
   "metadata": {},
   "source": [
    "#### Using the mean of the two ranks for the same college "
   ]
  },
  {
   "cell_type": "code",
   "execution_count": 53,
   "metadata": {},
   "outputs": [],
   "source": [
    "#taking mean of the cutoff ranks for the duplicate colleges for now\n",
    "import numpy as np\n",
    "new_college = pd.pivot_table(college, index='College_ID', values='CutOff_Ranks', aggfunc=np.mean)\n",
    "new_college = new_college.sort_values('CutOff_Ranks').head(10)"
   ]
  },
  {
   "cell_type": "code",
   "execution_count": 54,
   "metadata": {},
   "outputs": [
    {
     "data": {
      "image/png": "[encoded data removed]",
      "text/plain": [
       "<Figure size 2000x1200 with 1 Axes>"
      ]
     },
     "metadata": {
      "needs_background": "light"
     },
     "output_type": "display_data"
    },
    {
     "name": "stdout",
     "output_type": "stream",
     "text": [
      "Names of top 10 colleges for Civil Engineering whose home university is Savitribai Phule University : \n",
      "\n",
      "1. College of Engineering, Pune - 6006\n",
      "2. Government College of Engineering & Research, Avasari Khurd - 6004\n",
      "3. Pimpri Chinchwad Education Trust, Pimpri Chinchwad College of Engineering, Pune - 6175\n",
      "4. B.R.A.C.T's Vishwakarma Institute of Information Technology, Kondhwa (Bk.), Pune - 6289\n",
      "5. MIT Academy of Engineering,Alandi, Pune - 6146\n",
      "6. Alard  Charitable Trust's Alard College of Engineering and Management, Pune - 6325\n",
      "7. K. K. Wagh Institute of Engineering Education and Research, Nashik - 5121\n",
      "8. All India Shri Shivaji Memorial Society's College of Engineering, Pune - 6278\n",
      "9. Amruta Vaishnavi Education & Welfare Trust's Shatabdi Institute of Engineering & Research, Agaskhind Tal. Sinnar - 5184\n",
      "10. Jaywant Shikshan Prasarak Mandal's,Rajarshi Shahu College of Engineering, Tathawade, Pune - 6141\n"
     ]
    }
   ],
   "source": [
    "import matplotlib.pyplot as plt\n",
    "f, ax = plt.subplots(figsize=(10,6), dpi=200)\n",
    "ax = new_college.sort_values('CutOff_Ranks', ascending=False).plot(kind='barh', ax=ax)\n",
    "#ax = new_college.plot(kind='barh', ax=ax)\n",
    "plt.xlabel('Cut-off Ranks (lower the better :)')\n",
    "plt.ylabel('College ID')\n",
    "plt.title('Bar Graph of Cut Off Ranks of Top 10 Colleges')\n",
    "plt.show()\n",
    "\n",
    "# name of the top 10 colleges\n",
    "tempList = new_college.index.values\n",
    "tempListoNames = []\n",
    "for i in tempList:\n",
    "    tempListoNames.append(college[college['College_ID']==i]['College_Name'].values[0])\n",
    "    \n",
    "print(\"Names of top 10 colleges for Civil Engineering whose home university is Savitribai Phule University : \",end='\\n\\n')\n",
    "for i,k in enumerate(tempListoNames):\n",
    "    print(\"{}. \".format(i+1), end='')\n",
    "    print(k, end=' - ')\n",
    "    print(tempList[i])"
   ]
  },
  {
   "cell_type": "code",
   "execution_count": 55,
   "metadata": {},
   "outputs": [],
   "source": [
    "#saving the dataframe to a csv\n",
    "college.to_csv('college_Open.csv')"
   ]
  },
  {
   "cell_type": "markdown",
   "metadata": {},
   "source": [
    "#### Using the minimum of the two ranks for the same college!"
   ]
  },
  {
   "cell_type": "code",
   "execution_count": 56,
   "metadata": {},
   "outputs": [
    {
     "data": {
      "image/png": "[encoded data removed]",
      "text/plain": [
       "<Figure size 2000x1200 with 1 Axes>"
      ]
     },
     "metadata": {
      "needs_background": "light"
     },
     "output_type": "display_data"
    },
    {
     "name": "stdout",
     "output_type": "stream",
     "text": [
      "Names of top 10 colleges for Civil Engineering whose home university is Savitribai Phule University : \n",
      "\n",
      "1. College of Engineering, Pune - 6006\n",
      "2. Government College of Engineering & Research, Avasari Khurd - 6004\n",
      "3. Pimpri Chinchwad Education Trust, Pimpri Chinchwad College of Engineering, Pune - 6175\n",
      "4. B.R.A.C.T's Vishwakarma Institute of Information Technology, Kondhwa (Bk.), Pune - 6289\n",
      "5. MIT Academy of Engineering,Alandi, Pune - 6146\n",
      "6. K. K. Wagh Institute of Engineering Education and Research, Nashik - 5121\n",
      "7. Alard  Charitable Trust's Alard College of Engineering and Management, Pune - 6325\n",
      "8. All India Shri Shivaji Memorial Society's College of Engineering, Pune - 6278\n",
      "9. Amruta Vaishnavi Education & Welfare Trust's Shatabdi Institute of Engineering & Research, Agaskhind Tal. Sinnar - 5184\n",
      "10. Sinhgad College of Engineering, Vadgaon (BK), Pune - 6177\n"
     ]
    }
   ],
   "source": [
    "new_college = pd.pivot_table(college, index='College_ID', values='CutOff_Ranks', aggfunc=min)\n",
    "new_college = new_college.sort_values('CutOff_Ranks').head(10)\n",
    "\n",
    "import matplotlib.pyplot as plt\n",
    "f, ax = plt.subplots(figsize=(10,6), dpi=200)\n",
    "ax = new_college.sort_values('CutOff_Ranks', ascending=False).plot(kind='barh', ax=ax)\n",
    "#ax = new_college.plot(kind='barh', ax=ax)\n",
    "plt.xlabel('Cut-off Ranks (lower the better :)')\n",
    "plt.ylabel('College ID')\n",
    "plt.title('Bar Graph of Cut Off Ranks of Top 10 Colleges')\n",
    "plt.show()\n",
    "\n",
    "# name of the top 10 colleges\n",
    "tempList = new_college.index.values\n",
    "tempListoNames = []\n",
    "for i in tempList:\n",
    "    tempListoNames.append(college[college['College_ID']==i]['College_Name'].values[0])\n",
    "    \n",
    "print(\"Names of top 10 colleges for Civil Engineering whose home university is Savitribai Phule University : \",end='\\n\\n')\n",
    "for i,k in enumerate(tempListoNames):\n",
    "    print(\"{}. \".format(i+1), end='')\n",
    "    print(k, end=' - ')\n",
    "    print(tempList[i])"
   ]
  },
  {
   "cell_type": "markdown",
   "metadata": {},
   "source": [
    "## The main task is done!"
   ]
  },
  {
   "cell_type": "markdown",
   "metadata": {},
   "source": [
    "## Check the next Jupyter Notebook for a wider analysis!"
   ]
  },
  {
   "cell_type": "markdown",
   "metadata": {},
   "source": [
    "## Link : https://github.com/vishxm/DataScienceNBs/blob/master/CapGuideTask/civilTop10New.ipynb  "
   ]
  }
 ],
 "metadata": {
  "kernelspec": {
   "display_name": "Python 3",
   "language": "python",
   "name": "python3"
  },
  "language_info": {
   "codemirror_mode": {
    "name": "ipython",
    "version": 3
   },
   "file_extension": ".py",
   "mimetype": "text/x-python",
   "name": "python",
   "nbconvert_exporter": "python",
   "pygments_lexer": "ipython3",
   "version": "3.8.3"
  }
 },
 "nbformat": 4,
 "nbformat_minor": 4
}
